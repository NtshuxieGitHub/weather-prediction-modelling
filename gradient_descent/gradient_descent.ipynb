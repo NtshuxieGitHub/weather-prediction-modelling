{
 "cells": [
  {
   "cell_type": "markdown",
   "id": "bd23556c",
   "metadata": {},
   "source": [
    "## Gradient Descent From Scratch with Python\n",
    "\n",
    "In this project, I am implementing gradient descent by training a linear regression model to predict tomorrow's weather (temperatur) based on today's temperature\n",
    "\n",
    "#### Model Development"
   ]
  },
  {
   "cell_type": "code",
   "execution_count": 99,
   "id": "4d8b3a2b",
   "metadata": {},
   "outputs": [
    {
     "data": {
      "text/html": [
       "<div>\n",
       "<style scoped>\n",
       "    .dataframe tbody tr th:only-of-type {\n",
       "        vertical-align: middle;\n",
       "    }\n",
       "\n",
       "    .dataframe tbody tr th {\n",
       "        vertical-align: top;\n",
       "    }\n",
       "\n",
       "    .dataframe thead th {\n",
       "        text-align: right;\n",
       "    }\n",
       "</style>\n",
       "<table border=\"1\" class=\"dataframe\">\n",
       "  <thead>\n",
       "    <tr style=\"text-align: right;\">\n",
       "      <th></th>\n",
       "      <th>tmax</th>\n",
       "      <th>tmin</th>\n",
       "      <th>rain</th>\n",
       "      <th>tmax_tomorrow</th>\n",
       "    </tr>\n",
       "  </thead>\n",
       "  <tbody>\n",
       "    <tr>\n",
       "      <th>1970-01-01</th>\n",
       "      <td>60.0</td>\n",
       "      <td>35.0</td>\n",
       "      <td>0.0</td>\n",
       "      <td>52.0</td>\n",
       "    </tr>\n",
       "    <tr>\n",
       "      <th>1970-01-02</th>\n",
       "      <td>52.0</td>\n",
       "      <td>39.0</td>\n",
       "      <td>0.0</td>\n",
       "      <td>52.0</td>\n",
       "    </tr>\n",
       "    <tr>\n",
       "      <th>1970-01-03</th>\n",
       "      <td>52.0</td>\n",
       "      <td>35.0</td>\n",
       "      <td>0.0</td>\n",
       "      <td>53.0</td>\n",
       "    </tr>\n",
       "    <tr>\n",
       "      <th>1970-01-04</th>\n",
       "      <td>53.0</td>\n",
       "      <td>36.0</td>\n",
       "      <td>0.0</td>\n",
       "      <td>52.0</td>\n",
       "    </tr>\n",
       "    <tr>\n",
       "      <th>1970-01-05</th>\n",
       "      <td>52.0</td>\n",
       "      <td>35.0</td>\n",
       "      <td>0.0</td>\n",
       "      <td>50.0</td>\n",
       "    </tr>\n",
       "  </tbody>\n",
       "</table>\n",
       "</div>"
      ],
      "text/plain": [
       "            tmax  tmin  rain  tmax_tomorrow\n",
       "1970-01-01  60.0  35.0   0.0           52.0\n",
       "1970-01-02  52.0  39.0   0.0           52.0\n",
       "1970-01-03  52.0  35.0   0.0           53.0\n",
       "1970-01-04  53.0  36.0   0.0           52.0\n",
       "1970-01-05  52.0  35.0   0.0           50.0"
      ]
     },
     "execution_count": 99,
     "metadata": {},
     "output_type": "execute_result"
    }
   ],
   "source": [
    "# Import pandas\n",
    "import pandas as pd\n",
    "\n",
    "# Read data into a python df\n",
    "path = \"../data/clean_weather.csv\"\n",
    "data = pd.read_csv(path, index_col=0)\n",
    "data = data.ffill()\n",
    "\n",
    "# View first 5 rows\n",
    "data.head()"
   ]
  },
  {
   "cell_type": "code",
   "execution_count": 100,
   "id": "99c86ee2",
   "metadata": {},
   "outputs": [
    {
     "data": {
      "text/plain": [
       "(13509, 4)"
      ]
     },
     "execution_count": 100,
     "metadata": {},
     "output_type": "execute_result"
    }
   ],
   "source": [
    "# Check shape of the data (no. rows and columns present)\n",
    "data.shape"
   ]
  },
  {
   "cell_type": "markdown",
   "id": "c1b40270",
   "metadata": {},
   "source": [
    "Since tmax is today's weather (X) and tmax_tomorrow is tomorrow's weather (Y). We can check the relationship between these two variables using a scatter plot.\n",
    "\n",
    "$\\hat{y} = w_{1} * x_{1} + b$ ---> single predictor variable\n",
    "\n",
    "$\\hat{y} = w_{1} * x_{1} + w_{2} * x_{2} + b$ ---> multiple predictor variables\n",
    "\n",
    "$\\hat{y}$ --> predicted variable\n",
    "$w$ --> weight, \n",
    "$x$ --> predictor variable, \n",
    "$b$ --> bias\n",
    "\n",
    "---> This is the equation of the linear regression model"
   ]
  },
  {
   "cell_type": "code",
   "execution_count": 101,
   "id": "d553635d",
   "metadata": {},
   "outputs": [
    {
     "data": {
      "text/plain": [
       "<Axes: xlabel='tmax', ylabel='tmax_tomorrow'>"
      ]
     },
     "execution_count": 101,
     "metadata": {},
     "output_type": "execute_result"
    },
    {
     "data": {
      "image/png": "[encoded data removed]",
      "text/plain": [
       "<Figure size 640x480 with 1 Axes>"
      ]
     },
     "metadata": {},
     "output_type": "display_data"
    }
   ],
   "source": [
    "# Create scatter plot to show relationship between tmax and tmax_tomorrow\n",
    "data.plot.scatter(\"tmax\", \"tmax_tomorrow\")"
   ]
  },
  {
   "cell_type": "markdown",
   "id": "5457208a",
   "metadata": {},
   "source": [
    "As can be seen, there is a line that could be drawn to follow the shape of the data. (Line plot drawn below)."
   ]
  },
  {
   "cell_type": "code",
   "execution_count": 102,
   "id": "2cc47d36",
   "metadata": {},
   "outputs": [
    {
     "data": {
      "text/plain": [
       "[<matplotlib.lines.Line2D at 0x1b9342c20c0>]"
      ]
     },
     "execution_count": 102,
     "metadata": {},
     "output_type": "execute_result"
    },
    {
     "data": {
      "image/png": "[encoded data removed]",
      "text/plain": [
       "<Figure size 640x480 with 1 Axes>"
      ]
     },
     "metadata": {},
     "output_type": "display_data"
    }
   ],
   "source": [
    "# Import Python's plotting library\n",
    "import matplotlib.pyplot as plt\n",
    "\n",
    "# Plot scatter again\n",
    "data.plot.scatter(\"tmax\", \"tmax_tomorrow\")\n",
    "\n",
    "# Plot line\n",
    "plt.plot([30, 125], [30,125], \"red\")"
   ]
  },
  {
   "cell_type": "markdown",
   "id": "402b2610",
   "metadata": {},
   "source": [
    "As can be seen, the line goes through the data pretty well. We can therefore use this line to make predictions for tmax_tomorrow (tomorrow's data).\n",
    "\n",
    "Based on this linear relationship, using a tmax_tomorrow prediction would be the same as tmax."
   ]
  },
  {
   "cell_type": "code",
   "execution_count": 103,
   "id": "5212a2ab",
   "metadata": {},
   "outputs": [
    {
     "data": {
      "text/html": [
       "<style>#sk-container-id-3 {\n",
       "  /* Definition of color scheme common for light and dark mode */\n",
       "  --sklearn-color-text: black;\n",
       "  --sklearn-color-line: gray;\n",
       "  /* Definition of color scheme for unfitted estimators */\n",
       "  --sklearn-color-unfitted-level-0: #fff5e6;\n",
       "  --sklearn-color-unfitted-level-1: #f6e4d2;\n",
       "  --sklearn-color-unfitted-level-2: #ffe0b3;\n",
       "  --sklearn-color-unfitted-level-3: chocolate;\n",
       "  /* Definition of color scheme for fitted estimators */\n",
       "  --sklearn-color-fitted-level-0: #f0f8ff;\n",
       "  --sklearn-color-fitted-level-1: #d4ebff;\n",
       "  --sklearn-color-fitted-level-2: #b3dbfd;\n",
       "  --sklearn-color-fitted-level-3: cornflowerblue;\n",
       "\n",
       "  /* Specific color for light theme */\n",
       "  --sklearn-color-text-on-default-background: var(--sg-text-color, var(--theme-code-foreground, var(--jp-content-font-color1, black)));\n",
       "  --sklearn-color-background: var(--sg-background-color, var(--theme-background, var(--jp-layout-color0, white)));\n",
       "  --sklearn-color-border-box: var(--sg-text-color, var(--theme-code-foreground, var(--jp-content-font-color1, black)));\n",
       "  --sklearn-color-icon: #696969;\n",
       "\n",
       "  @media (prefers-color-scheme: dark) {\n",
       "    /* Redefinition of color scheme for dark theme */\n",
       "    --sklearn-color-text-on-default-background: var(--sg-text-color, var(--theme-code-foreground, var(--jp-content-font-color1, white)));\n",
       "    --sklearn-color-background: var(--sg-background-color, var(--theme-background, var(--jp-layout-color0, #111)));\n",
       "    --sklearn-color-border-box: var(--sg-text-color, var(--theme-code-foreground, var(--jp-content-font-color1, white)));\n",
       "    --sklearn-color-icon: #878787;\n",
       "  }\n",
       "}\n",
       "\n",
       "#sk-container-id-3 {\n",
       "  color: var(--sklearn-color-text);\n",
       "}\n",
       "\n",
       "#sk-container-id-3 pre {\n",
       "  padding: 0;\n",
       "}\n",
       "\n",
       "#sk-container-id-3 input.sk-hidden--visually {\n",
       "  border: 0;\n",
       "  clip: rect(1px 1px 1px 1px);\n",
       "  clip: rect(1px, 1px, 1px, 1px);\n",
       "  height: 1px;\n",
       "  margin: -1px;\n",
       "  overflow: hidden;\n",
       "  padding: 0;\n",
       "  position: absolute;\n",
       "  width: 1px;\n",
       "}\n",
       "\n",
       "#sk-container-id-3 div.sk-dashed-wrapped {\n",
       "  border: 1px dashed var(--sklearn-color-line);\n",
       "  margin: 0 0.4em 0.5em 0.4em;\n",
       "  box-sizing: border-box;\n",
       "  padding-bottom: 0.4em;\n",
       "  background-color: var(--sklearn-color-background);\n",
       "}\n",
       "\n",
       "#sk-container-id-3 div.sk-container {\n",
       "  /* jupyter's `normalize.less` sets `[hidden] { display: none; }`\n",
       "     but bootstrap.min.css set `[hidden] { display: none !important; }`\n",
       "     so we also need the `!important` here to be able to override the\n",
       "     default hidden behavior on the sphinx rendered scikit-learn.org.\n",
       "     See: https://github.com/scikit-learn/scikit-learn/issues/21755 */\n",
       "  display: inline-block !important;\n",
       "  position: relative;\n",
       "}\n",
       "\n",
       "#sk-container-id-3 div.sk-text-repr-fallback {\n",
       "  display: none;\n",
       "}\n",
       "\n",
       "div.sk-parallel-item,\n",
       "div.sk-serial,\n",
       "div.sk-item {\n",
       "  /* draw centered vertical line to link estimators */\n",
       "  background-image: linear-gradient(var(--sklearn-color-text-on-default-background), var(--sklearn-color-text-on-default-background));\n",
       "  background-size: 2px 100%;\n",
       "  background-repeat: no-repeat;\n",
       "  background-position: center center;\n",
       "}\n",
       "\n",
       "/* Parallel-specific style estimator block */\n",
       "\n",
       "#sk-container-id-3 div.sk-parallel-item::after {\n",
       "  content: \"\";\n",
       "  width: 100%;\n",
       "  border-bottom: 2px solid var(--sklearn-color-text-on-default-background);\n",
       "  flex-grow: 1;\n",
       "}\n",
       "\n",
       "#sk-container-id-3 div.sk-parallel {\n",
       "  display: flex;\n",
       "  align-items: stretch;\n",
       "  justify-content: center;\n",
       "  background-color: var(--sklearn-color-background);\n",
       "  position: relative;\n",
       "}\n",
       "\n",
       "#sk-container-id-3 div.sk-parallel-item {\n",
       "  display: flex;\n",
       "  flex-direction: column;\n",
       "}\n",
       "\n",
       "#sk-container-id-3 div.sk-parallel-item:first-child::after {\n",
       "  align-self: flex-end;\n",
       "  width: 50%;\n",
       "}\n",
       "\n",
       "#sk-container-id-3 div.sk-parallel-item:last-child::after {\n",
       "  align-self: flex-start;\n",
       "  width: 50%;\n",
       "}\n",
       "\n",
       "#sk-container-id-3 div.sk-parallel-item:only-child::after {\n",
       "  width: 0;\n",
       "}\n",
       "\n",
       "/* Serial-specific style estimator block */\n",
       "\n",
       "#sk-container-id-3 div.sk-serial {\n",
       "  display: flex;\n",
       "  flex-direction: column;\n",
       "  align-items: center;\n",
       "  background-color: var(--sklearn-color-background);\n",
       "  padding-right: 1em;\n",
       "  padding-left: 1em;\n",
       "}\n",
       "\n",
       "\n",
       "/* Toggleable style: style used for estimator/Pipeline/ColumnTransformer box that is\n",
       "clickable and can be expanded/collapsed.\n",
       "- Pipeline and ColumnTransformer use this feature and define the default style\n",
       "- Estimators will overwrite some part of the style using the `sk-estimator` class\n",
       "*/\n",
       "\n",
       "/* Pipeline and ColumnTransformer style (default) */\n",
       "\n",
       "#sk-container-id-3 div.sk-toggleable {\n",
       "  /* Default theme specific background. It is overwritten whether we have a\n",
       "  specific estimator or a Pipeline/ColumnTransformer */\n",
       "  background-color: var(--sklearn-color-background);\n",
       "}\n",
       "\n",
       "/* Toggleable label */\n",
       "#sk-container-id-3 label.sk-toggleable__label {\n",
       "  cursor: pointer;\n",
       "  display: block;\n",
       "  width: 100%;\n",
       "  margin-bottom: 0;\n",
       "  padding: 0.5em;\n",
       "  box-sizing: border-box;\n",
       "  text-align: center;\n",
       "}\n",
       "\n",
       "#sk-container-id-3 label.sk-toggleable__label-arrow:before {\n",
       "  /* Arrow on the left of the label */\n",
       "  content: \"▸\";\n",
       "  float: left;\n",
       "  margin-right: 0.25em;\n",
       "  color: var(--sklearn-color-icon);\n",
       "}\n",
       "\n",
       "#sk-container-id-3 label.sk-toggleable__label-arrow:hover:before {\n",
       "  color: var(--sklearn-color-text);\n",
       "}\n",
       "\n",
       "/* Toggleable content - dropdown */\n",
       "\n",
       "#sk-container-id-3 div.sk-toggleable__content {\n",
       "  max-height: 0;\n",
       "  max-width: 0;\n",
       "  overflow: hidden;\n",
       "  text-align: left;\n",
       "  /* unfitted */\n",
       "  background-color: var(--sklearn-color-unfitted-level-0);\n",
       "}\n",
       "\n",
       "#sk-container-id-3 div.sk-toggleable__content.fitted {\n",
       "  /* fitted */\n",
       "  background-color: var(--sklearn-color-fitted-level-0);\n",
       "}\n",
       "\n",
       "#sk-container-id-3 div.sk-toggleable__content pre {\n",
       "  margin: 0.2em;\n",
       "  border-radius: 0.25em;\n",
       "  color: var(--sklearn-color-text);\n",
       "  /* unfitted */\n",
       "  background-color: var(--sklearn-color-unfitted-level-0);\n",
       "}\n",
       "\n",
       "#sk-container-id-3 div.sk-toggleable__content.fitted pre {\n",
       "  /* unfitted */\n",
       "  background-color: var(--sklearn-color-fitted-level-0);\n",
       "}\n",
       "\n",
       "#sk-container-id-3 input.sk-toggleable__control:checked~div.sk-toggleable__content {\n",
       "  /* Expand drop-down */\n",
       "  max-height: 200px;\n",
       "  max-width: 100%;\n",
       "  overflow: auto;\n",
       "}\n",
       "\n",
       "#sk-container-id-3 input.sk-toggleable__control:checked~label.sk-toggleable__label-arrow:before {\n",
       "  content: \"▾\";\n",
       "}\n",
       "\n",
       "/* Pipeline/ColumnTransformer-specific style */\n",
       "\n",
       "#sk-container-id-3 div.sk-label input.sk-toggleable__control:checked~label.sk-toggleable__label {\n",
       "  color: var(--sklearn-color-text);\n",
       "  background-color: var(--sklearn-color-unfitted-level-2);\n",
       "}\n",
       "\n",
       "#sk-container-id-3 div.sk-label.fitted input.sk-toggleable__control:checked~label.sk-toggleable__label {\n",
       "  background-color: var(--sklearn-color-fitted-level-2);\n",
       "}\n",
       "\n",
       "/* Estimator-specific style */\n",
       "\n",
       "/* Colorize estimator box */\n",
       "#sk-container-id-3 div.sk-estimator input.sk-toggleable__control:checked~label.sk-toggleable__label {\n",
       "  /* unfitted */\n",
       "  background-color: var(--sklearn-color-unfitted-level-2);\n",
       "}\n",
       "\n",
       "#sk-container-id-3 div.sk-estimator.fitted input.sk-toggleable__control:checked~label.sk-toggleable__label {\n",
       "  /* fitted */\n",
       "  background-color: var(--sklearn-color-fitted-level-2);\n",
       "}\n",
       "\n",
       "#sk-container-id-3 div.sk-label label.sk-toggleable__label,\n",
       "#sk-container-id-3 div.sk-label label {\n",
       "  /* The background is the default theme color */\n",
       "  color: var(--sklearn-color-text-on-default-background);\n",
       "}\n",
       "\n",
       "/* On hover, darken the color of the background */\n",
       "#sk-container-id-3 div.sk-label:hover label.sk-toggleable__label {\n",
       "  color: var(--sklearn-color-text);\n",
       "  background-color: var(--sklearn-color-unfitted-level-2);\n",
       "}\n",
       "\n",
       "/* Label box, darken color on hover, fitted */\n",
       "#sk-container-id-3 div.sk-label.fitted:hover label.sk-toggleable__label.fitted {\n",
       "  color: var(--sklearn-color-text);\n",
       "  background-color: var(--sklearn-color-fitted-level-2);\n",
       "}\n",
       "\n",
       "/* Estimator label */\n",
       "\n",
       "#sk-container-id-3 div.sk-label label {\n",
       "  font-family: monospace;\n",
       "  font-weight: bold;\n",
       "  display: inline-block;\n",
       "  line-height: 1.2em;\n",
       "}\n",
       "\n",
       "#sk-container-id-3 div.sk-label-container {\n",
       "  text-align: center;\n",
       "}\n",
       "\n",
       "/* Estimator-specific */\n",
       "#sk-container-id-3 div.sk-estimator {\n",
       "  font-family: monospace;\n",
       "  border: 1px dotted var(--sklearn-color-border-box);\n",
       "  border-radius: 0.25em;\n",
       "  box-sizing: border-box;\n",
       "  margin-bottom: 0.5em;\n",
       "  /* unfitted */\n",
       "  background-color: var(--sklearn-color-unfitted-level-0);\n",
       "}\n",
       "\n",
       "#sk-container-id-3 div.sk-estimator.fitted {\n",
       "  /* fitted */\n",
       "  background-color: var(--sklearn-color-fitted-level-0);\n",
       "}\n",
       "\n",
       "/* on hover */\n",
       "#sk-container-id-3 div.sk-estimator:hover {\n",
       "  /* unfitted */\n",
       "  background-color: var(--sklearn-color-unfitted-level-2);\n",
       "}\n",
       "\n",
       "#sk-container-id-3 div.sk-estimator.fitted:hover {\n",
       "  /* fitted */\n",
       "  background-color: var(--sklearn-color-fitted-level-2);\n",
       "}\n",
       "\n",
       "/* Specification for estimator info (e.g. \"i\" and \"?\") */\n",
       "\n",
       "/* Common style for \"i\" and \"?\" */\n",
       "\n",
       ".sk-estimator-doc-link,\n",
       "a:link.sk-estimator-doc-link,\n",
       "a:visited.sk-estimator-doc-link {\n",
       "  float: right;\n",
       "  font-size: smaller;\n",
       "  line-height: 1em;\n",
       "  font-family: monospace;\n",
       "  background-color: var(--sklearn-color-background);\n",
       "  border-radius: 1em;\n",
       "  height: 1em;\n",
       "  width: 1em;\n",
       "  text-decoration: none !important;\n",
       "  margin-left: 1ex;\n",
       "  /* unfitted */\n",
       "  border: var(--sklearn-color-unfitted-level-1) 1pt solid;\n",
       "  color: var(--sklearn-color-unfitted-level-1);\n",
       "}\n",
       "\n",
       ".sk-estimator-doc-link.fitted,\n",
       "a:link.sk-estimator-doc-link.fitted,\n",
       "a:visited.sk-estimator-doc-link.fitted {\n",
       "  /* fitted */\n",
       "  border: var(--sklearn-color-fitted-level-1) 1pt solid;\n",
       "  color: var(--sklearn-color-fitted-level-1);\n",
       "}\n",
       "\n",
       "/* On hover */\n",
       "div.sk-estimator:hover .sk-estimator-doc-link:hover,\n",
       ".sk-estimator-doc-link:hover,\n",
       "div.sk-label-container:hover .sk-estimator-doc-link:hover,\n",
       ".sk-estimator-doc-link:hover {\n",
       "  /* unfitted */\n",
       "  background-color: var(--sklearn-color-unfitted-level-3);\n",
       "  color: var(--sklearn-color-background);\n",
       "  text-decoration: none;\n",
       "}\n",
       "\n",
       "div.sk-estimator.fitted:hover .sk-estimator-doc-link.fitted:hover,\n",
       ".sk-estimator-doc-link.fitted:hover,\n",
       "div.sk-label-container:hover .sk-estimator-doc-link.fitted:hover,\n",
       ".sk-estimator-doc-link.fitted:hover {\n",
       "  /* fitted */\n",
       "  background-color: var(--sklearn-color-fitted-level-3);\n",
       "  color: var(--sklearn-color-background);\n",
       "  text-decoration: none;\n",
       "}\n",
       "\n",
       "/* Span, style for the box shown on hovering the info icon */\n",
       ".sk-estimator-doc-link span {\n",
       "  display: none;\n",
       "  z-index: 9999;\n",
       "  position: relative;\n",
       "  font-weight: normal;\n",
       "  right: .2ex;\n",
       "  padding: .5ex;\n",
       "  margin: .5ex;\n",
       "  width: min-content;\n",
       "  min-width: 20ex;\n",
       "  max-width: 50ex;\n",
       "  color: var(--sklearn-color-text);\n",
       "  box-shadow: 2pt 2pt 4pt #999;\n",
       "  /* unfitted */\n",
       "  background: var(--sklearn-color-unfitted-level-0);\n",
       "  border: .5pt solid var(--sklearn-color-unfitted-level-3);\n",
       "}\n",
       "\n",
       ".sk-estimator-doc-link.fitted span {\n",
       "  /* fitted */\n",
       "  background: var(--sklearn-color-fitted-level-0);\n",
       "  border: var(--sklearn-color-fitted-level-3);\n",
       "}\n",
       "\n",
       ".sk-estimator-doc-link:hover span {\n",
       "  display: block;\n",
       "}\n",
       "\n",
       "/* \"?\"-specific style due to the `<a>` HTML tag */\n",
       "\n",
       "#sk-container-id-3 a.estimator_doc_link {\n",
       "  float: right;\n",
       "  font-size: 1rem;\n",
       "  line-height: 1em;\n",
       "  font-family: monospace;\n",
       "  background-color: var(--sklearn-color-background);\n",
       "  border-radius: 1rem;\n",
       "  height: 1rem;\n",
       "  width: 1rem;\n",
       "  text-decoration: none;\n",
       "  /* unfitted */\n",
       "  color: var(--sklearn-color-unfitted-level-1);\n",
       "  border: var(--sklearn-color-unfitted-level-1) 1pt solid;\n",
       "}\n",
       "\n",
       "#sk-container-id-3 a.estimator_doc_link.fitted {\n",
       "  /* fitted */\n",
       "  border: var(--sklearn-color-fitted-level-1) 1pt solid;\n",
       "  color: var(--sklearn-color-fitted-level-1);\n",
       "}\n",
       "\n",
       "/* On hover */\n",
       "#sk-container-id-3 a.estimator_doc_link:hover {\n",
       "  /* unfitted */\n",
       "  background-color: var(--sklearn-color-unfitted-level-3);\n",
       "  color: var(--sklearn-color-background);\n",
       "  text-decoration: none;\n",
       "}\n",
       "\n",
       "#sk-container-id-3 a.estimator_doc_link.fitted:hover {\n",
       "  /* fitted */\n",
       "  background-color: var(--sklearn-color-fitted-level-3);\n",
       "}\n",
       "</style><div id=\"sk-container-id-3\" class=\"sk-top-container\"><div class=\"sk-text-repr-fallback\"><pre>LinearRegression()</pre><b>In a Jupyter environment, please rerun this cell to show the HTML representation or trust the notebook. <br />On GitHub, the HTML representation is unable to render, please try loading this page with nbviewer.org.</b></div><div class=\"sk-container\" hidden><div class=\"sk-item\"><div class=\"sk-estimator fitted sk-toggleable\"><input class=\"sk-toggleable__control sk-hidden--visually\" id=\"sk-estimator-id-3\" type=\"checkbox\" checked><label for=\"sk-estimator-id-3\" class=\"sk-toggleable__label fitted sk-toggleable__label-arrow fitted\">&nbsp;&nbsp;LinearRegression<a class=\"sk-estimator-doc-link fitted\" rel=\"noreferrer\" target=\"_blank\" href=\"https://scikit-learn.org/1.4/modules/generated/sklearn.linear_model.LinearRegression.html\">?<span>Documentation for LinearRegression</span></a><span class=\"sk-estimator-doc-link fitted\">i<span>Fitted</span></span></label><div class=\"sk-toggleable__content fitted\"><pre>LinearRegression()</pre></div> </div></div></div></div>"
      ],
      "text/plain": [
       "LinearRegression()"
      ]
     },
     "execution_count": 103,
     "metadata": {},
     "output_type": "execute_result"
    }
   ],
   "source": [
    "# Import the linear regression model from sklearn\n",
    "from sklearn.linear_model import LinearRegression\n",
    "\n",
    "# Intialize the linear regression class\n",
    "lm = LinearRegression()\n",
    "\n",
    "# Train data - this will fit the linear regression algorithm\n",
    "lm.fit(data[[\"tmax\"]], data[\"tmax_tomorrow\"])"
   ]
  },
  {
   "cell_type": "code",
   "execution_count": 104,
   "id": "4f942165",
   "metadata": {},
   "outputs": [
    {
     "data": {
      "text/plain": [
       "[<matplotlib.lines.Line2D at 0x1b932fdb8c0>]"
      ]
     },
     "execution_count": 104,
     "metadata": {},
     "output_type": "execute_result"
    },
    {
     "data": {
      "image/png": "[encoded data removed]",
      "text/plain": [
       "<Figure size 640x480 with 1 Axes>"
      ]
     },
     "metadata": {},
     "output_type": "display_data"
    }
   ],
   "source": [
    "# Plot the scatter that shows the relationship between tmax and tmax_tomorrow\n",
    "data.plot.scatter(\"tmax\", \"tmax_tomorrow\")\n",
    "\n",
    "# Plot the generated line by the regression model\n",
    "plt.plot(data[\"tmax\"], lm.predict(data[[\"tmax\"]]), \"orange\")"
   ]
  },
  {
   "cell_type": "markdown",
   "id": "979dbfa1",
   "metadata": {},
   "source": [
    "Take a look at the coefficients of the model, the weight and the bias. This is done to see how th eline is actually defined."
   ]
  },
  {
   "cell_type": "code",
   "execution_count": 105,
   "id": "8e000099",
   "metadata": {},
   "outputs": [
    {
     "name": "stdout",
     "output_type": "stream",
     "text": [
      "Weight : 0.82\n",
      "Bias : 11.99\n"
     ]
    }
   ],
   "source": [
    "print(f\"Weight : {lm.coef_[0]:.2f}\")\n",
    "print(f\"Bias : {lm.intercept_:.2f}\")"
   ]
  },
  {
   "cell_type": "code",
   "execution_count": 106,
   "id": "ced96614",
   "metadata": {},
   "outputs": [
    {
     "name": "stdout",
     "output_type": "stream",
     "text": [
      "The predicted temperature is : 32.49 degrees C\n"
     ]
    }
   ],
   "source": [
    "# Make a prediction using the weight and the bias\n",
    "tmax_tomorrow = 25 * .82 + 11.99\n",
    "print(f\"The predicted temperature is : {tmax_tomorrow} degrees C\")"
   ]
  },
  {
   "cell_type": "markdown",
   "id": "923a291d",
   "metadata": {},
   "source": [
    "#### Measuring Loss\n",
    "\n",
    "Now the model has been developed. To make iot better, the error or loss of the prediction needs to be determined. This is determined by looking at the difference between the actual tmax_tomorrow and the predicted tmax_tomorrow. The average accross all all weather prediction errors is the overall loss.\n",
    "\n",
    "This is defined at the mean_squared_error:\n",
    "\n",
    "$MSE = (\\hat{y} - y) ^ 2$"
   ]
  },
  {
   "cell_type": "code",
   "execution_count": 107,
   "id": "c39eefe5",
   "metadata": {},
   "outputs": [
    {
     "name": "stdout",
     "output_type": "stream",
     "text": [
      "The mean squared error is : 0.08409999999999951\n"
     ]
    }
   ],
   "source": [
    "# Set a test tmax_tomorrow and use the predicted \n",
    "# temperature to calcuated the error\n",
    "mse = (32.49 - 32.2) ** 2\n",
    "print(f\"The mean squared error is : {mse}\")"
   ]
  },
  {
   "cell_type": "markdown",
   "id": "abacb51f",
   "metadata": {},
   "source": [
    "Note: If the predicted temperature is close to the actual temperature, then MSE will be smaller, if the difference between the predicted and the actual temeprature is larger, then the error will be larger.\n",
    "\n",
    "Using gradient descent, we can determine how to get the MSE to be as small as possible, i.e., how to get the predicted temperature to be as close as possible to the actual temperature."
   ]
  },
  {
   "cell_type": "code",
   "execution_count": 108,
   "id": "d8a3792e",
   "metadata": {},
   "outputs": [
    {
     "data": {
      "text/plain": [
       "[<matplotlib.lines.Line2D at 0x1b9343bea50>]"
      ]
     },
     "execution_count": 108,
     "metadata": {},
     "output_type": "execute_result"
    },
    {
     "data": {
      "image/png": "[encoded data removed]",
      "text/plain": [
       "<Figure size 640x480 with 1 Axes>"
      ]
     },
     "metadata": {},
     "output_type": "display_data"
    }
   ],
   "source": [
    "# Import numpy\n",
    "import numpy as np\n",
    "\n",
    "# Create a loss function - this function takes \n",
    "# in a weight (w) and a actual temperature value (y)\n",
    "# and tells us what the error/loss is\n",
    "loss = lambda w, y: ((w * 25 + 11.99) - y) ** 2\n",
    "\n",
    "# Set tomorrow's actual temperature\n",
    "y = 32.2\n",
    "\n",
    "# Create an array of potential weights\n",
    "ws = np.arange(-1, 3, .1) # - 1, -.9, -.8, ...., 2.9, 3\n",
    "\n",
    "# Calculate loss for each weight\n",
    "losses = loss(ws, y)\n",
    "\n",
    "# Plot the losses\n",
    "plt.scatter(ws, losses)\n",
    "plt.plot(1, loss(1, y), \"ro\")"
   ]
  },
  {
   "cell_type": "markdown",
   "id": "f1759868",
   "metadata": {},
   "source": [
    "Let's get the rate of change of the loss (also known as the gradient)"
   ]
  },
  {
   "cell_type": "code",
   "execution_count": 109,
   "id": "ada5649a",
   "metadata": {},
   "outputs": [
    {
     "data": {
      "text/plain": [
       "[<matplotlib.lines.Line2D at 0x1b93440f3b0>]"
      ]
     },
     "execution_count": 109,
     "metadata": {},
     "output_type": "execute_result"
    },
    {
     "data": {
      "image/png": "[encoded data removed]",
      "text/plain": [
       "<Figure size 640x480 with 1 Axes>"
      ]
     },
     "metadata": {},
     "output_type": "display_data"
    }
   ],
   "source": [
    "# Create a gradient function - this is the derivative of the loss function\n",
    "gradient = lambda w, y: 2 * (w * 25 + 11.99 - y) * 25\n",
    "gradients = gradient(ws, y)\n",
    "\n",
    "# Plot the gradients\n",
    "plt.scatter(ws, gradients)\n",
    "plt.plot(1, gradient(1, y), \"ro\")"
   ]
  },
  {
   "cell_type": "markdown",
   "id": "584122be",
   "metadata": {},
   "source": [
    "Update weights and biases to get to the point whereby the loss is the lowest"
   ]
  },
  {
   "cell_type": "code",
   "execution_count": 110,
   "id": "79cb359d",
   "metadata": {},
   "outputs": [
    {
     "data": {
      "text/plain": [
       "9.579999999999998"
      ]
     },
     "execution_count": 110,
     "metadata": {},
     "output_type": "execute_result"
    }
   ],
   "source": [
    "2 * (((25 * 1) + 11.99) - 32.2)"
   ]
  },
  {
   "cell_type": "markdown",
   "id": "3a61661a",
   "metadata": {},
   "source": [
    "SInce b is directly related to the loss. We need to take the partial derivative of b w.r.t the loss\n",
    "\n",
    "$\\frac{\\partial L}{\\partial b}=\\partial L$\n",
    "\n",
    "The equation below is used to get the partial derivative of weight with respect to x * w\n",
    "\n",
    "$\\frac{\\partial L}{\\partial w}=\\frac{\\partial L}{\\partial (x*w)}\\frac{\\partial (x*w)}{\\partial w}$"
   ]
  },
  {
   "cell_type": "code",
   "execution_count": 111,
   "id": "483e9e16",
   "metadata": {},
   "outputs": [
    {
     "data": {
      "text/plain": [
       "239.5"
      ]
     },
     "execution_count": 111,
     "metadata": {},
     "output_type": "execute_result"
    }
   ],
   "source": [
    "9.58 * 25"
   ]
  },
  {
   "cell_type": "code",
   "execution_count": 112,
   "id": "8861ec0f",
   "metadata": {},
   "outputs": [
    {
     "data": {
      "text/plain": [
       "[<matplotlib.lines.Line2D at 0x1b934575c10>]"
      ]
     },
     "execution_count": 112,
     "metadata": {},
     "output_type": "execute_result"
    },
    {
     "data": {
      "image/png": "[encoded data removed]",
      "text/plain": [
       "<Figure size 640x480 with 1 Axes>"
      ]
     },
     "metadata": {},
     "output_type": "display_data"
    }
   ],
   "source": [
    "# Define weight values and losses\n",
    "ws = np.arange(-10000, 100, 100)\n",
    "losses = loss(ws, y)\n",
    "\n",
    "plt.scatter(ws, losses)\n",
    "plt.plot(1, loss(1, y), \"ro\")\n",
    "new_weight = 1 - gradient(1, y) * 25\n",
    "plt.plot(new_weight, loss(new_weight, y), \"go\")"
   ]
  },
  {
   "cell_type": "code",
   "execution_count": 113,
   "id": "e54e6c1a",
   "metadata": {},
   "outputs": [
    {
     "data": {
      "text/plain": [
       "[<matplotlib.lines.Line2D at 0x1b93462a8d0>]"
      ]
     },
     "execution_count": 113,
     "metadata": {},
     "output_type": "execute_result"
    },
    {
     "data": {
      "image/png": "[encoded data removed]",
      "text/plain": [
       "<Figure size 640x480 with 1 Axes>"
      ]
     },
     "metadata": {},
     "output_type": "display_data"
    }
   ],
   "source": [
    "# Calculate gradient values for several weights\n",
    "gradients = gradient(ws, y)\n",
    "\n",
    "# Plot the weight and gradients\n",
    "plt.scatter(ws, gradients)\n",
    "plt.plot(1, gradient(1, y), \"ro\")\n",
    "\n",
    "# New weight\n",
    "plt.plot(new_weight, gradient(new_weight, y), \"go\")"
   ]
  },
  {
   "cell_type": "markdown",
   "id": "d5904f41",
   "metadata": {},
   "source": [
    "#### Learning Rate"
   ]
  },
  {
   "cell_type": "markdown",
   "id": "87c82590",
   "metadata": {},
   "source": [
    "To adjust for the fact that the gradient is going to change, we use something called a learning rate. \n",
    "\n",
    "A learning rate reduces the size of the parameter update (new_weight = 1 - gradient(1, y) * 25) so that we do not take too large of a step."
   ]
  },
  {
   "cell_type": "code",
   "execution_count": 114,
   "id": "841882a2",
   "metadata": {},
   "outputs": [
    {
     "data": {
      "text/plain": [
       "[<matplotlib.lines.Line2D at 0x1b9357b6030>]"
      ]
     },
     "execution_count": 114,
     "metadata": {},
     "output_type": "execute_result"
    },
    {
     "data": {
      "image/png": "[encoded data removed]",
      "text/plain": [
       "<Figure size 640x480 with 1 Axes>"
      ]
     },
     "metadata": {},
     "output_type": "display_data"
    }
   ],
   "source": [
    "# Set weights and losses\n",
    "ws = np.arange(-.5, 1.5, .1)\n",
    "losses = loss(ws, y)\n",
    "\n",
    "# Plot\n",
    "plt.scatter(ws, losses)\n",
    "plt.plot(1, loss(1, y), \"ro\")\n",
    "\n",
    "# Set learning rate\n",
    "learning_rate = 5e-5\n",
    "new_weight = 1 - learning_rate * gradient(1, y) * 25\n",
    "\n",
    "# Plot new weight, loss and y\n",
    "plt.plot(new_weight, loss(new_weight, y), \"go\")"
   ]
  },
  {
   "cell_type": "code",
   "execution_count": 115,
   "id": "6007630b",
   "metadata": {},
   "outputs": [
    {
     "data": {
      "text/plain": [
       "0.700625"
      ]
     },
     "execution_count": 115,
     "metadata": {},
     "output_type": "execute_result"
    }
   ],
   "source": [
    "new_weight"
   ]
  },
  {
   "cell_type": "markdown",
   "id": "c773b280",
   "metadata": {},
   "source": [
    "#### Implement Linear Regression"
   ]
  },
  {
   "cell_type": "code",
   "execution_count": 116,
   "id": "b53f038e",
   "metadata": {},
   "outputs": [
    {
     "name": "stderr",
     "output_type": "stream",
     "text": [
      "c:\\Users\\ntshu\\AppData\\Local\\Programs\\Python\\Python312\\Lib\\site-packages\\numpy\\core\\fromnumeric.py:59: FutureWarning: 'DataFrame.swapaxes' is deprecated and will be removed in a future version. Please use 'DataFrame.transpose' instead.\n",
      "  return bound(*args, **kwds)\n"
     ]
    }
   ],
   "source": [
    "# Set predictors and targets\n",
    "predictors = [\"tmax\", \"tmin\", \"rain\"]\n",
    "target = \"tmax_tomorrow\"\n",
    "\n",
    "# Split data into train, test and validation sets\n",
    "np.random.seed(0)\n",
    "split_data = np.split(data, [int(.6 * len(data)), int(.7 * len(data))])\n",
    "(train_x, train_y), (valid_x, valid_y), (test_x, test_y) = [[d[predictors].to_numpy(), d[[target]].to_numpy()] for d in split_data]"
   ]
  },
  {
   "cell_type": "code",
   "execution_count": 117,
   "id": "c814d52f",
   "metadata": {},
   "outputs": [],
   "source": [
    "# Import math\n",
    "import math\n",
    "\n",
    "def init_params(predictors):\n",
    "    \"\"\"\n",
    "    Takes in the number of predictors available \n",
    "    and initialises the weights for these predictors \n",
    "    as well as initialise a single bias\n",
    "    \"\"\"\n",
    "    # Set a random seed to ensure that the weights are \n",
    "    # the same every time and that the algorithm perfoms \n",
    "    # the same way every time\n",
    "    np.random.seed(0)\n",
    "\n",
    "    # initialise weights to random numbers between 0 and 1\n",
    "    weights = np.random.rand(predictors, 1)\n",
    "\n",
    "    # initialise a bias\n",
    "    bias = np.ones((1, 1))\n",
    "\n",
    "    # Return weights and bias\n",
    "    return [weights, bias]\n"
   ]
  },
  {
   "cell_type": "code",
   "execution_count": 118,
   "id": "25f6fc06",
   "metadata": {},
   "outputs": [
    {
     "data": {
      "text/plain": [
       "[array([[0.5488135 ],\n",
       "        [0.71518937],\n",
       "        [0.60276338]]),\n",
       " array([[1.]])]"
      ]
     },
     "execution_count": 118,
     "metadata": {},
     "output_type": "execute_result"
    }
   ],
   "source": [
    "# Initialise parameters\n",
    "params = init_params(3)\n",
    "params"
   ]
  },
  {
   "cell_type": "code",
   "execution_count": 119,
   "id": "fe8ae34d",
   "metadata": {},
   "outputs": [],
   "source": [
    "def forward_pass(params, x):\n",
    "    \"\"\"\n",
    "    Takes in the parameters and the input data, \n",
    "    makes a prediction and returns the output \n",
    "    of the model\n",
    "    \"\"\"\n",
    "    # Pull out the weight and bias parameters\n",
    "    weights, bias = params\n",
    "\n",
    "    # Make a prediction - @ is a matrix multiplication \n",
    "    # symbol for elemental multiplication\n",
    "    prediction = x @ weights + bias\n",
    "\n",
    "    # Return the prediction\n",
    "    return prediction"
   ]
  },
  {
   "cell_type": "code",
   "execution_count": 120,
   "id": "77b552b4",
   "metadata": {},
   "outputs": [],
   "source": [
    "def mse(actual_temp, predicted_temp):\n",
    "    \"\"\"\n",
    "    Takes in the actual temperature and the predicted \n",
    "    temperature and returns the mean squared error\n",
    "    \"\"\"\n",
    "    # Calculate the mean squared error\n",
    "    mse = np.mean((actual_temp - predicted_temp) ** 2)\n",
    "\n",
    "    # Return the mean squared error\n",
    "    return mse"
   ]
  },
  {
   "cell_type": "code",
   "execution_count": 121,
   "id": "d35b09ae",
   "metadata": {},
   "outputs": [],
   "source": [
    "def mse_gradient(actual_temp, predicted_temp):\n",
    "    \"\"\"\n",
    "    Takes in the actual temperature and the predicted \n",
    "    temperature and returns the gradient\n",
    "    \"\"\"\n",
    "    # Calculate the gradient\n",
    "    gradient = predicted_temp - actual_temp\n",
    "\n",
    "    # Return the gradient\n",
    "    return gradient"
   ]
  },
  {
   "cell_type": "code",
   "execution_count": 122,
   "id": "37028d2f",
   "metadata": {},
   "outputs": [],
   "source": [
    "def backward_pass(params, x, learning_rate, gradient):\n",
    "    \"\"\"\n",
    "    Takes in the parameters, input data, learning rate \n",
    "    and gradient and updates the parameters\n",
    "    \"\"\"\n",
    "    # Pull out the weight and bias parameters\n",
    "    weights, bias = params\n",
    "\n",
    "    # Calculate the weight and bias gradients\n",
    "    weight_gradient = (x.T / x.shape[0]) @ gradient\n",
    "    bias_gradient = np.mean(gradient, axis=0)\n",
    "\n",
    "    # Update the weights\n",
    "    params[0] -= weight_gradient * learning_rate\n",
    "\n",
    "    # Update the bias\n",
    "    params[1] -= bias_gradient * learning_rate\n",
    "\n",
    "    # Return the updated parameters\n",
    "    return params"
   ]
  },
  {
   "cell_type": "markdown",
   "id": "fb40a0e9",
   "metadata": {},
   "source": [
    "#### Create a Training Loop"
   ]
  },
  {
   "cell_type": "code",
   "execution_count": 126,
   "id": "307eb7f1",
   "metadata": {},
   "outputs": [
    {
     "name": "stdout",
     "output_type": "stream",
     "text": [
      "Epoch 0: 41.43923305827977\n",
      "Epoch 500: 34.95270985178218\n",
      "Epoch 1000: 33.88042052278814\n",
      "Epoch 1500: 33.70236338319178\n",
      "Epoch 2000: 33.669656663618035\n",
      "Epoch 2500: 33.661785826555054\n",
      "Epoch 3000: 33.65862292174586\n",
      "Epoch 3500: 33.65652235454567\n",
      "Epoch 4000: 33.65471804020103\n",
      "Epoch 4500: 33.65301264054181\n"
     ]
    }
   ],
   "source": [
    "# Set a learning rate and a number of epochs\n",
    "learning_rate = 1e-4\n",
    "epochs = 5000\n",
    "\n",
    "# Initialize parameters\n",
    "params = init_params(train_x.shape[1])\n",
    "\n",
    "# loop through each epoch\n",
    "for epoch in range(epochs):\n",
    "    # Make predictions\n",
    "    predictions = forward_pass(params, train_x)\n",
    "\n",
    "    # Calculate mse gradient\n",
    "    gradient = mse_gradient(train_y, predictions)\n",
    "\n",
    "    # Update the parameters\n",
    "    params = backward_pass(params, train_x, learning_rate, gradient)\n",
    "\n",
    "    if epoch % 500 == 0:\n",
    "         # Print out validation error\n",
    "         predictions = forward_pass(params, valid_x)\n",
    "\n",
    "         # Calculate the mse \n",
    "         valid_loss = mse(valid_y, predictions)\n",
    "\n",
    "         # Return output in message\n",
    "         print(f\"Epoch {epoch}: {valid_loss}\")"
   ]
  },
  {
   "cell_type": "code",
   "execution_count": 127,
   "id": "16c159ac",
   "metadata": {},
   "outputs": [
    {
     "data": {
      "text/plain": [
       "[array([[0.79513537],\n",
       "        [0.24085245],\n",
       "        [0.57054254]]),\n",
       " array([[1.04668891]])]"
      ]
     },
     "execution_count": 127,
     "metadata": {},
     "output_type": "execute_result"
    }
   ],
   "source": [
    "params"
   ]
  }
 ],
 "metadata": {
  "kernelspec": {
   "display_name": "Python 3",
   "language": "python",
   "name": "python3"
  },
  "language_info": {
   "codemirror_mode": {
    "name": "ipython",
    "version": 3
   },
   "file_extension": ".py",
   "mimetype": "text/x-python",
   "name": "python",
   "nbconvert_exporter": "python",
   "pygments_lexer": "ipython3",
   "version": "3.12.1"
  }
 },
 "nbformat": 4,
 "nbformat_minor": 5
}
